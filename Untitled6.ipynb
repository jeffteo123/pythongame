{
 "cells": [
  {
   "cell_type": "markdown",
   "id": "53a7144c-6e40-462e-a270-655c36fa1024",
   "metadata": {},
   "source": [
    "Title: FIRST JUPYTER NOTEBOOK"
   ]
  },
  {
   "cell_type": "markdown",
   "id": "4f9fd3d3-5215-4486-b00a-28e1849c50da",
   "metadata": {},
   "source": [
    "Introduction: This is the Jupyter notebook done as part of Data Science project."
   ]
  },
  {
   "cell_type": "markdown",
   "id": "a13d9341-3a5f-497f-a024-9b7f3bb90ab0",
   "metadata": {},
   "source": [
    "Data science languages: Python\n",
    "R\n",
    "SQL"
   ]
  },
  {
   "cell_type": "markdown",
   "id": "e67c344c-3059-424d-9fef-0b4564c6409b",
   "metadata": {},
   "source": [
    "Data science libraries: Numpy Pandas ggplot2 caret dplyr"
   ]
  },
  {
   "cell_type": "markdown",
   "id": "d6426576-5f55-436a-a1e1-4098ab0f458a",
   "metadata": {},
   "source": [
    "| Data Science tools |\n",
    "|:---------|\n",
    "|  Jupyter   |\n",
    "|  Spyder   |\n",
    "|  PostgreSQL   |\n",
    "|  Oracle SQL   |\n",
    "|  RStudio   |"
   ]
  },
  {
   "cell_type": "code",
   "execution_count": null,
   "id": "ce757d1b-9ce1-4c2a-a0ce-37fd09f6c161",
   "metadata": {},
   "outputs": [],
   "source": [
    "input_number1=int(input(\"Enter First Number: \"))\n",
    "input_number2=int(input(\"Enter Second Number: \"))\n",
    "print(input_number1 * input_number2)\n",
    "print(input_number1 + input_number2)"
   ]
  },
  {
   "cell_type": "code",
   "execution_count": null,
   "id": "72e41fff-c255-4474-83e9-6cd3a25d8a47",
   "metadata": {},
   "outputs": [],
   "source": [
    "input_minutes=int(input(\"Enter Minutes: \"))\n",
    "print(input_minutes/60)"
   ]
  },
  {
   "cell_type": "markdown",
   "id": "ea37b8af-246f-4cef-8ee2-6a879dffb410",
   "metadata": {},
   "source": [
    "Objectives: To have an understanding of Data Science tools and languages for data manipulation and data analysis."
   ]
  },
  {
   "cell_type": "markdown",
   "id": "39778960-cda9-4738-82a7-4bfdf5d30522",
   "metadata": {},
   "source": [
    "Author: Jeff Teo"
   ]
  },
  {
   "cell_type": "code",
   "execution_count": null,
   "id": "2f90de2e-d9f9-46fc-90cb-9e5bc5e7d914",
   "metadata": {},
   "outputs": [],
   "source": []
  }
 ],
 "metadata": {
  "kernelspec": {
   "display_name": "Python 3 (ipykernel)",
   "language": "python",
   "name": "python3"
  },
  "language_info": {
   "codemirror_mode": {
    "name": "ipython",
    "version": 3
   },
   "file_extension": ".py",
   "mimetype": "text/x-python",
   "name": "python",
   "nbconvert_exporter": "python",
   "pygments_lexer": "ipython3",
   "version": "3.11.5"
  }
 },
 "nbformat": 4,
 "nbformat_minor": 5
}
